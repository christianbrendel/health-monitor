{
 "cells": [
  {
   "cell_type": "code",
   "execution_count": 1,
   "metadata": {},
   "outputs": [
    {
     "data": {
      "text/plain": [
       "True"
      ]
     },
     "execution_count": 1,
     "metadata": {},
     "output_type": "execute_result"
    }
   ],
   "source": [
    "import os\n",
    "import pandas as pd\n",
    "from supabase import create_client\n",
    "import psycopg2\n",
    "import urllib.parse\n",
    "\n",
    "from dotenv import load_dotenv\n",
    "\n",
    "load_dotenv()"
   ]
  },
  {
   "cell_type": "code",
   "execution_count": 2,
   "metadata": {},
   "outputs": [
    {
     "name": "stdout",
     "output_type": "stream",
     "text": [
      "8194\n"
     ]
    },
    {
     "data": {
      "text/html": [
       "<div>\n",
       "<style scoped>\n",
       "    .dataframe tbody tr th:only-of-type {\n",
       "        vertical-align: middle;\n",
       "    }\n",
       "\n",
       "    .dataframe tbody tr th {\n",
       "        vertical-align: top;\n",
       "    }\n",
       "\n",
       "    .dataframe thead th {\n",
       "        text-align: right;\n",
       "    }\n",
       "</style>\n",
       "<table border=\"1\" class=\"dataframe\">\n",
       "  <thead>\n",
       "    <tr style=\"text-align: right;\">\n",
       "      <th></th>\n",
       "      <th>ts_start</th>\n",
       "      <th>ts_end</th>\n",
       "      <th>value</th>\n",
       "    </tr>\n",
       "  </thead>\n",
       "  <tbody>\n",
       "    <tr>\n",
       "      <th>0</th>\n",
       "      <td>2024-08-11T20:58:32+00:00</td>\n",
       "      <td>2024-08-12T03:43:58+00:00</td>\n",
       "      <td>InBed</td>\n",
       "    </tr>\n",
       "    <tr>\n",
       "      <th>1</th>\n",
       "      <td>2024-08-12T20:17:30+00:00</td>\n",
       "      <td>2024-08-12T23:59:41+00:00</td>\n",
       "      <td>InBed</td>\n",
       "    </tr>\n",
       "    <tr>\n",
       "      <th>2</th>\n",
       "      <td>2024-08-12T23:59:44+00:00</td>\n",
       "      <td>2024-08-13T03:42:46+00:00</td>\n",
       "      <td>InBed</td>\n",
       "    </tr>\n",
       "    <tr>\n",
       "      <th>3</th>\n",
       "      <td>2024-08-13T03:42:47+00:00</td>\n",
       "      <td>2024-08-13T04:25:37+00:00</td>\n",
       "      <td>InBed</td>\n",
       "    </tr>\n",
       "    <tr>\n",
       "      <th>4</th>\n",
       "      <td>2024-08-13T04:26:37+00:00</td>\n",
       "      <td>2024-08-13T04:32:27+00:00</td>\n",
       "      <td>InBed</td>\n",
       "    </tr>\n",
       "  </tbody>\n",
       "</table>\n",
       "</div>"
      ],
      "text/plain": [
       "                    ts_start                     ts_end  value\n",
       "0  2024-08-11T20:58:32+00:00  2024-08-12T03:43:58+00:00  InBed\n",
       "1  2024-08-12T20:17:30+00:00  2024-08-12T23:59:41+00:00  InBed\n",
       "2  2024-08-12T23:59:44+00:00  2024-08-13T03:42:46+00:00  InBed\n",
       "3  2024-08-13T03:42:47+00:00  2024-08-13T04:25:37+00:00  InBed\n",
       "4  2024-08-13T04:26:37+00:00  2024-08-13T04:32:27+00:00  InBed"
      ]
     },
     "execution_count": 2,
     "metadata": {},
     "output_type": "execute_result"
    }
   ],
   "source": [
    "url = os.environ.get(\"SUPABASE_URL\")\n",
    "key = os.environ.get(\"SUPABASE_KEY\")\n",
    "supabase_client = create_client(url, key)\n",
    "\n",
    "response = supabase_client.table(\"apple_health_sleep_analysis\").select(\"*\").execute()\n",
    "data = response.data\n",
    "\n",
    "df_sleep = pd.DataFrame(data)\n",
    "print(len(df_sleep))\n",
    "df_sleep.head()"
   ]
  },
  {
   "cell_type": "code",
   "execution_count": 3,
   "metadata": {},
   "outputs": [
    {
     "name": "stdout",
     "output_type": "stream",
     "text": [
      "Failed to connect: could not translate host name \"db.vbakhllktblperdqxdnu.supabase.co\" to address: nodename nor servname provided, or not known\n",
      "\n"
     ]
    }
   ],
   "source": [
    "import psycopg2\n",
    "from dotenv import load_dotenv\n",
    "import os\n",
    "\n",
    "# Load environment variables from .env\n",
    "load_dotenv()\n",
    "\n",
    "# Fetch variables\n",
    "USER = os.getenv(\"USER\")\n",
    "PASSWORD = os.getenv(\"PASSWORD\")\n",
    "HOST = os.getenv(\"HOST\")\n",
    "PORT = os.getenv(\"PORT\")\n",
    "DBNAME = os.getenv(\"DBNAME\")\n",
    "\n",
    "# Connect to the database\n",
    "try:\n",
    "    connection = psycopg2.connect(\n",
    "        user=USER,\n",
    "        password=PASSWORD,\n",
    "        host=HOST,\n",
    "        port=PORT,\n",
    "        dbname=DBNAME\n",
    "    )\n",
    "    print(\"Connection successful!\")\n",
    "    \n",
    "    # Create a cursor to execute SQL queries\n",
    "    cursor = connection.cursor()\n",
    "    \n",
    "    # Example query\n",
    "    cursor.execute(\"SELECT NOW();\")\n",
    "    result = cursor.fetchone()\n",
    "    print(\"Current Time:\", result)\n",
    "\n",
    "    # Close the cursor and connection\n",
    "    cursor.close()\n",
    "    connection.close()\n",
    "    print(\"Connection closed.\")\n",
    "\n",
    "except Exception as e:\n",
    "    print(f\"Failed to connect: {e}\")"
   ]
  },
  {
   "cell_type": "code",
   "execution_count": 4,
   "metadata": {},
   "outputs": [
    {
     "name": "stdout",
     "output_type": "stream",
     "text": [
      "db.vbakhllktblperdqxdnu.supabase.co\n"
     ]
    }
   ],
   "source": [
    "!echo $HOST"
   ]
  },
  {
   "cell_type": "code",
   "execution_count": null,
   "metadata": {},
   "outputs": [],
   "source": []
  }
 ],
 "metadata": {
  "kernelspec": {
   "display_name": "health-monitor",
   "language": "python",
   "name": "python3"
  },
  "language_info": {
   "codemirror_mode": {
    "name": "ipython",
    "version": 3
   },
   "file_extension": ".py",
   "mimetype": "text/x-python",
   "name": "python",
   "nbconvert_exporter": "python",
   "pygments_lexer": "ipython3",
   "version": "3.9.21"
  }
 },
 "nbformat": 4,
 "nbformat_minor": 2
}
